{
 "cells": [
  {
   "cell_type": "code",
   "execution_count": 3,
   "metadata": {},
   "outputs": [],
   "source": [
    "import os"
   ]
  },
  {
   "cell_type": "code",
   "execution_count": 4,
   "metadata": {},
   "outputs": [
    {
     "data": {
      "text/plain": [
       "'c:\\\\Users\\\\NGASSAM\\\\Desktop\\\\NONO\\\\End-to-end-Machine-Learning-Project-with-Mlflow\\\\research'"
      ]
     },
     "execution_count": 4,
     "metadata": {},
     "output_type": "execute_result"
    }
   ],
   "source": [
    "%pwd"
   ]
  },
  {
   "cell_type": "code",
   "execution_count": 5,
   "metadata": {},
   "outputs": [],
   "source": [
    "os.chdir(\"../\")"
   ]
  },
  {
   "cell_type": "code",
   "execution_count": 6,
   "metadata": {},
   "outputs": [
    {
     "data": {
      "text/plain": [
       "'c:\\\\Users\\\\NGASSAM\\\\Desktop\\\\NONO\\\\End-to-end-Machine-Learning-Project-with-Mlflow'"
      ]
     },
     "execution_count": 6,
     "metadata": {},
     "output_type": "execute_result"
    }
   ],
   "source": [
    "%pwd"
   ]
  },
  {
   "cell_type": "code",
   "execution_count": 7,
   "metadata": {},
   "outputs": [],
   "source": [
    "from dataclasses import dataclass\n",
    "from pathlib import Path\n",
    "\n",
    "@dataclass(frozen=True)\n",
    "\n",
    "class DataIngestionConfig:\n",
    "    root_dir: Path\n",
    "    source_url: str\n",
    "    local_data_file: Path\n",
    "    unzip_dir: Path\n",
    "    "
   ]
  },
  {
   "cell_type": "code",
   "execution_count": 45,
   "metadata": {},
   "outputs": [],
   "source": [
    "from mlProject.constants import *"
   ]
  },
  {
   "cell_type": "code",
   "execution_count": 44,
   "metadata": {},
   "outputs": [],
   "source": [
    "from dataclasses import dataclass\n",
    "from pathlib import Path\n",
    "from mlProject.utils.common import read_yaml, create_directories"
   ]
  },
  {
   "cell_type": "code",
   "execution_count": null,
   "metadata": {},
   "outputs": [],
   "source": []
  },
  {
   "cell_type": "code",
   "execution_count": 43,
   "metadata": {},
   "outputs": [
    {
     "name": "stdout",
     "output_type": "stream",
     "text": [
      "[2025-02-19 16:50:25,209: INFO: common: yaml file: config\\config.yaml loaded successfully]\n",
      "[2025-02-19 16:50:25,213: INFO: common: yaml file: params.yaml loaded successfully]\n",
      "[2025-02-19 16:50:25,216: INFO: common: yaml file: schema.yaml loaded successfully]\n",
      "[2025-02-19 16:50:25,218: INFO: common: created directory at: artifacts]\n",
      "[2025-02-19 16:50:25,220: INFO: common: created directory at: artifacts\\data_ingestion]\n",
      "[2025-02-19 16:50:26,085: INFO: 3278250095: artifacts\\data_ingestion\\data.zip téléchargé avec succès !\n",
      "Infos : \n",
      "Connection: close\n",
      "Content-Length: 23329\n",
      "Cache-Control: max-age=300\n",
      "Content-Security-Policy: default-src 'none'; style-src 'unsafe-inline'; sandbox\n",
      "Content-Type: application/zip\n",
      "ETag: \"c69888a4ae59bc5a893392785a938ccd4937981c06ba8a9d6a21aa52b4ab5b6e\"\n",
      "Strict-Transport-Security: max-age=31536000\n",
      "X-Content-Type-Options: nosniff\n",
      "X-Frame-Options: deny\n",
      "X-XSS-Protection: 1; mode=block\n",
      "X-GitHub-Request-Id: BD6A:34B3AA:35D0C:375B6:67B5FDC4\n",
      "Accept-Ranges: bytes\n",
      "Date: Wed, 19 Feb 2025 15:50:28 GMT\n",
      "Via: 1.1 varnish\n",
      "X-Served-By: cache-par-lfpg1960088-PAR\n",
      "X-Cache: MISS\n",
      "X-Cache-Hits: 0\n",
      "X-Timer: S1739980229.576068,VS0,VE183\n",
      "Vary: Authorization,Accept-Encoding,Origin\n",
      "Access-Control-Allow-Origin: *\n",
      "Cross-Origin-Resource-Policy: cross-origin\n",
      "X-Fastly-Request-ID: 1bc5771be69e072f41b1e4eeddd126038c76d750\n",
      "Expires: Wed, 19 Feb 2025 15:55:28 GMT\n",
      "Source-Age: 0\n",
      "\n",
      "]\n",
      "[2025-02-19 16:50:26,139: INFO: 3278250095: Extraction réussie dans artifacts\\data_ingestion]\n"
     ]
    }
   ],
   "source": [
    "# Définir les chemins par défaut\n",
    "CONFIG_FILE_PATH = \"config/config.yaml\"\n",
    "PARAMS_FILE_PATH = \"params.yaml\"\n",
    "SCHEMA_FILE_PATH = \"schema.yaml\"\n",
    "\n",
    "@dataclass(frozen=True)\n",
    "class DataIngestionConfig:\n",
    "    root_dir: Path\n",
    "    source_url: str\n",
    "    local_data_file: Path\n",
    "    unzip_dir: Path\n",
    "\n",
    "class ConfigurationManager:\n",
    "    def __init__(self, config_filepath=CONFIG_FILE_PATH, params_filepath=PARAMS_FILE_PATH, schema_filepath=SCHEMA_FILE_PATH):\n",
    "        \"\"\"Charge les fichiers YAML de configuration et crée les répertoires nécessaires.\"\"\"\n",
    "        self.config = read_yaml(Path(config_filepath))\n",
    "        self.params = read_yaml(Path(params_filepath))\n",
    "        self.schema = read_yaml(Path(schema_filepath))\n",
    "\n",
    "        # Créer le répertoire racine des artifacts\n",
    "        create_directories([self.config[\"artifacts_root\"]])\n",
    "\n",
    "    def get_data_ingestion_config(self) -> DataIngestionConfig:\n",
    "        \"\"\"Récupère la configuration pour l'ingestion des données.\"\"\"\n",
    "        config = self.config[\"data_ingestion\"]  # Dictionnaire contenant la config d'ingestion\n",
    "\n",
    "        # Créer les répertoires nécessaires\n",
    "        create_directories([Path(config[\"root_dir\"])])\n",
    "\n",
    "        # Retourner l'objet DataIngestionConfig\n",
    "        return DataIngestionConfig(\n",
    "            root_dir=Path(config[\"root_dir\"]),\n",
    "            source_url=config[\"source_URL\"],  # Assurez-vous que la clé est bien \"source_URL\" dans config.yaml\n",
    "            local_data_file=Path(config[\"local_data_file\"]),\n",
    "            unzip_dir=Path(config[\"unzip_dir\"])\n",
    "        )\n",
    "\n",
    "import os\n",
    "import urllib.request as request\n",
    "import zipfile\n",
    "from mlProject import logger\n",
    "from mlProject.utils.common import get_size\n",
    "\n",
    "class DataIngestion:\n",
    "    def __init__(self, config: DataIngestionConfig):\n",
    "        \"\"\"Initialise l'ingestion des données avec la configuration fournie.\"\"\"\n",
    "        self.config = config\n",
    "\n",
    "    def download_file(self):\n",
    "        \"\"\"Télécharge le fichier si celui-ci n'existe pas déjà.\"\"\"\n",
    "        if not os.path.exists(self.config.local_data_file):\n",
    "            filename, headers = request.urlretrieve(\n",
    "                url=self.config.source_url,\n",
    "                filename=self.config.local_data_file\n",
    "            )\n",
    "            logger.info(f\"{filename} téléchargé avec succès !\\nInfos : \\n{headers}\")\n",
    "        else:\n",
    "            logger.info(f\"Le fichier existe déjà, taille : {get_size(self.config.local_data_file)}\")\n",
    "\n",
    "    def extract_zip_file(self):\n",
    "        \"\"\"Décompresse le fichier ZIP téléchargé.\"\"\"\n",
    "        unzip_path = self.config.unzip_dir\n",
    "        os.makedirs(unzip_path, exist_ok=True)\n",
    "        with zipfile.ZipFile(self.config.local_data_file, 'r') as zip_ref:\n",
    "            zip_ref.extractall(unzip_path)\n",
    "        logger.info(f\"Extraction réussie dans {unzip_path}\")\n",
    "\n",
    "# Exécution du script\n",
    "try:\n",
    "    config_manager = ConfigurationManager()\n",
    "    data_ingestion_config = config_manager.get_data_ingestion_config()\n",
    "    data_ingestion = DataIngestion(config=data_ingestion_config)\n",
    "    data_ingestion.download_file()\n",
    "    data_ingestion.extract_zip_file()\n",
    "except Exception as e:\n",
    "    raise e\n"
   ]
  }
 ],
 "metadata": {
  "kernelspec": {
   "display_name": "mlproj",
   "language": "python",
   "name": "python3"
  },
  "language_info": {
   "codemirror_mode": {
    "name": "ipython",
    "version": 3
   },
   "file_extension": ".py",
   "mimetype": "text/x-python",
   "name": "python",
   "nbconvert_exporter": "python",
   "pygments_lexer": "ipython3",
   "version": "3.13.2"
  }
 },
 "nbformat": 4,
 "nbformat_minor": 2
}
