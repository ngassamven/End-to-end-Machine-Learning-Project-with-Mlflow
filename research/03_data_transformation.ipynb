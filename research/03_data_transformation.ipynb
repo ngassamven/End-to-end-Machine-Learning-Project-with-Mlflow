{
 "cells": [
  {
   "cell_type": "code",
   "execution_count": 3,
   "metadata": {},
   "outputs": [],
   "source": [
    "import os"
   ]
  },
  {
   "cell_type": "code",
   "execution_count": 1,
   "metadata": {},
   "outputs": [
    {
     "data": {
      "text/plain": [
       "'c:\\\\Users\\\\NGASSAM\\\\Desktop\\\\NONO\\\\End-to-end-Machine-Learning-Project-with-Mlflow\\\\research'"
      ]
     },
     "execution_count": 1,
     "metadata": {},
     "output_type": "execute_result"
    }
   ],
   "source": [
    "%pwd"
   ]
  },
  {
   "cell_type": "code",
   "execution_count": 4,
   "metadata": {},
   "outputs": [],
   "source": [
    "os.chdir(\"../\")"
   ]
  },
  {
   "cell_type": "code",
   "execution_count": 5,
   "metadata": {},
   "outputs": [
    {
     "data": {
      "text/plain": [
       "'c:\\\\Users\\\\NGASSAM\\\\Desktop\\\\NONO\\\\End-to-end-Machine-Learning-Project-with-Mlflow'"
      ]
     },
     "execution_count": 5,
     "metadata": {},
     "output_type": "execute_result"
    }
   ],
   "source": [
    "%pwd"
   ]
  },
  {
   "cell_type": "code",
   "execution_count": 6,
   "metadata": {},
   "outputs": [],
   "source": [
    "from dataclasses import  dataclass\n",
    "from pathlib import Path"
   ]
  },
  {
   "cell_type": "code",
   "execution_count": 7,
   "metadata": {},
   "outputs": [],
   "source": [
    "@dataclass(frozen=True)\n",
    "class DataTransformationConfig:\n",
    "    root_dir:Path\n",
    "    data_path:Path"
   ]
  },
  {
   "cell_type": "code",
   "execution_count": 8,
   "metadata": {},
   "outputs": [],
   "source": [
    "from mlProject.constants import *\n",
    "from mlProject.utils.common import read_yaml, create_directories"
   ]
  },
  {
   "cell_type": "code",
   "execution_count": 9,
   "metadata": {},
   "outputs": [],
   "source": [
    "from mlProject.entity.config_entity import DataIngestionConfig\n",
    "# Définir les chemins par défaut\n",
    "CONFIG_FILE_PATH = \"config/config.yaml\"\n",
    "PARAMS_FILE_PATH = \"params.yaml\"\n",
    "SCHEMA_FILE_PATH = \"schema.yaml\"\n",
    "\n",
    "class ConfigurationManager:\n",
    "    def __init__(self, config_filepath=CONFIG_FILE_PATH, params_filepath=PARAMS_FILE_PATH, schema_filepath=SCHEMA_FILE_PATH):\n",
    "        \"\"\"Charge les fichiers YAML de configuration et crée les répertoires nécessaires.\"\"\"\n",
    "        self.config = read_yaml(Path(config_filepath))\n",
    "        self.params = read_yaml(Path(params_filepath))\n",
    "        self.schema = read_yaml(Path(schema_filepath))\n",
    "\n",
    "        # Créer le répertoire racine des artifacts\n",
    "        create_directories([self.config[\"artifacts_root\"]]) \n",
    "\n",
    "    def get_data_transformation_config(self) -> DataTransformationConfig:\n",
    "        \"\"\"Récupère la configuration pour l'ingestion des données.\"\"\"\n",
    "        config = self.config[\"data_transformation\"]  # Dictionnaire contenant la config d'ingestion\n",
    "        #schema = self.schema[\"COLUMNs\"]\n",
    "\n",
    "        # Créer les répertoires nécessaires\n",
    "        create_directories([Path(config[\"root_dir\"])])\n",
    "\n",
    "        \n",
    "        # Retourner l'objet DataTransformationConfig\n",
    "        return DataTransformationConfig(\n",
    "            root_dir=Path(config[\"root_dir\"]),\n",
    "            #STATUS_FILE=config[\"STATUS_FILE\"],  \n",
    "            #unzip_data_dir=Path(config[\"unzip_dir\"]),  \n",
    "            #all_schema=schema\n",
    "            data_path = Path(config[\"data_path\"]),  \n",
    "        )\n"
   ]
  },
  {
   "cell_type": "code",
   "execution_count": 11,
   "metadata": {},
   "outputs": [],
   "source": [
    "import os\n",
    "from mlProject import logger \n",
    "from sklearn.model_selection import train_test_split\n",
    "import pandas as pd"
   ]
  },
  {
   "cell_type": "code",
   "execution_count": 12,
   "metadata": {},
   "outputs": [],
   "source": [
    "class DataTransformation:\n",
    "    def __init__(self, config: DataTransformationConfig):\n",
    "        self.config = config\n",
    "\n",
    "    \n",
    "    ## Note: You can add different data transformation techniques such as Scaler, PCA and all\n",
    "    #You can perform all kinds of EDA in ML cycle here before passing this data to the model\n",
    "\n",
    "    # I am only adding train_test_spliting cz this data is already cleaned up\n",
    "\n",
    "\n",
    "    def train_test_spliting(self):\n",
    "        data = pd.read_csv(self.config.data_path)\n",
    "\n",
    "        # Split the data into training and test sets. (0.75, 0.25) split.\n",
    "        train, test = train_test_split(data)\n",
    "\n",
    "        train.to_csv(os.path.join(self.config.root_dir, \"train.csv\"),index = False)\n",
    "        test.to_csv(os.path.join(self.config.root_dir, \"test.csv\"),index = False)\n",
    "\n",
    "        logger.info(\"Splited data into training and test sets\")\n",
    "        logger.info(train.shape)\n",
    "        logger.info(test.shape)\n",
    "\n",
    "        print(train.shape)\n",
    "        print(test.shape)\n",
    "        "
   ]
  },
  {
   "cell_type": "code",
   "execution_count": 14,
   "metadata": {},
   "outputs": [
    {
     "name": "stdout",
     "output_type": "stream",
     "text": [
      "[2025-02-20 13:45:14,718: INFO: common: yaml file: config\\config.yaml loaded successfully]\n",
      "[2025-02-20 13:45:14,725: INFO: common: yaml file: params.yaml loaded successfully]\n",
      "[2025-02-20 13:45:14,743: INFO: common: yaml file: schema.yaml loaded successfully]\n",
      "[2025-02-20 13:45:14,751: INFO: common: created directory at: artifacts]\n",
      "[2025-02-20 13:45:14,758: INFO: common: created directory at: artifacts\\data_transformation]\n",
      "[2025-02-20 13:45:14,842: INFO: 2872944432: Données divisées en ensembles d'entraînement et de test]\n",
      "[2025-02-20 13:45:14,845: INFO: 2872944432: Taille de l'ensemble d'entraînement : (1199, 12)]\n",
      "[2025-02-20 13:45:14,847: INFO: 2872944432: Taille de l'ensemble de test : (400, 12)]\n",
      "(1199, 12)\n",
      "(400, 12)\n"
     ]
    }
   ],
   "source": [
    "from dataclasses import dataclass\n",
    "from pathlib import Path\n",
    "from mlProject.constants import *\n",
    "from mlProject.utils.common import read_yaml, create_directories\n",
    "from mlProject.entity.config_entity import DataIngestionConfig\n",
    "\n",
    "# Définir les chemins par défaut\n",
    "CONFIG_FILE_PATH = \"config/config.yaml\"\n",
    "PARAMS_FILE_PATH = \"params.yaml\"\n",
    "SCHEMA_FILE_PATH = \"schema.yaml\"\n",
    "\n",
    "@dataclass(frozen=True)\n",
    "class DataTransformationConfig:\n",
    "    root_dir: Path\n",
    "    data_path: Path\n",
    "\n",
    "class ConfigurationManager:\n",
    "    def __init__(self, config_filepath=CONFIG_FILE_PATH, params_filepath=PARAMS_FILE_PATH, schema_filepath=SCHEMA_FILE_PATH):\n",
    "        \"\"\"Charge les fichiers YAML de configuration et crée les répertoires nécessaires.\"\"\"\n",
    "        self.config = read_yaml(Path(config_filepath))\n",
    "        self.params = read_yaml(Path(params_filepath))\n",
    "        self.schema = read_yaml(Path(schema_filepath))\n",
    "\n",
    "        # Créer le répertoire racine des artifacts\n",
    "        create_directories([self.config[\"artifacts_root\"]])\n",
    "\n",
    "    def get_data_transformation_config(self) -> DataTransformationConfig:\n",
    "        \"\"\"Récupère la configuration pour la transformation des données.\"\"\"\n",
    "        config = self.config[\"data_transformation\"]  # Dictionnaire contenant la config de transformation\n",
    "\n",
    "        # Créer les répertoires nécessaires\n",
    "        create_directories([Path(config[\"root_dir\"])])\n",
    "\n",
    "        # Retourner l'objet DataTransformationConfig\n",
    "        return DataTransformationConfig(\n",
    "            root_dir=Path(config[\"root_dir\"]),\n",
    "            data_path=Path(config[\"data_path\"])  # Correction ici\n",
    "        )\n",
    "\n",
    "import os\n",
    "from mlProject import logger \n",
    "from sklearn.model_selection import train_test_split\n",
    "import pandas as pd\n",
    "\n",
    "class DataTransformation:\n",
    "    def __init__(self, config: DataTransformationConfig):\n",
    "        self.config = config\n",
    "\n",
    "    def train_test_spliting(self):\n",
    "        \"\"\"Divise les données en ensembles d'entraînement et de test.\"\"\"\n",
    "        data = pd.read_csv(self.config.data_path)\n",
    "\n",
    "        # Split the data into training and test sets (75% train, 25% test)\n",
    "        train, test = train_test_split(data, test_size=0.25, random_state=42)\n",
    "\n",
    "        train.to_csv(os.path.join(self.config.root_dir, \"train.csv\"), index=False)\n",
    "        test.to_csv(os.path.join(self.config.root_dir, \"test.csv\"), index=False)\n",
    "\n",
    "        logger.info(\"Données divisées en ensembles d'entraînement et de test\")\n",
    "        logger.info(f\"Taille de l'ensemble d'entraînement : {train.shape}\")\n",
    "        logger.info(f\"Taille de l'ensemble de test : {test.shape}\")\n",
    "\n",
    "        print(train.shape)\n",
    "        print(test.shape)\n",
    "\n",
    "# Exécution du script\n",
    "try:\n",
    "    config = ConfigurationManager()\n",
    "    data_transformation_config = config.get_data_transformation_config()\n",
    "    data_transformation = DataTransformation(config=data_transformation_config)\n",
    "    data_transformation.train_test_spliting()\n",
    "except Exception as e:\n",
    "    raise e\n"
   ]
  }
 ],
 "metadata": {
  "kernelspec": {
   "display_name": "mlproj",
   "language": "python",
   "name": "python3"
  },
  "language_info": {
   "codemirror_mode": {
    "name": "ipython",
    "version": 3
   },
   "file_extension": ".py",
   "mimetype": "text/x-python",
   "name": "python",
   "nbconvert_exporter": "python",
   "pygments_lexer": "ipython3",
   "version": "3.13.2"
  }
 },
 "nbformat": 4,
 "nbformat_minor": 2
}
